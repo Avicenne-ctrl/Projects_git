{
 "cells": [
  {
   "cell_type": "code",
   "execution_count": 1,
   "metadata": {
    "colab": {
     "base_uri": "https://localhost:8080/"
    },
    "id": "-Q5SCzdR7ir5",
    "outputId": "ea045114-5b79-470f-d7c5-a8ca483b400d"
   },
   "outputs": [
    {
     "name": "stdout",
     "output_type": "stream",
     "text": [
      "zsh:1: command not found: wget\n"
     ]
    }
   ],
   "source": [
    "!wget 'https://nextcloud.univ-lille.fr/index.php/s/fJCDx8XCRdzDg3y/download/img_align_celeba.npz'"
   ]
  },
  {
   "cell_type": "markdown",
   "metadata": {
    "id": "E24rfGVo7lJF"
   },
   "source": [
    "The prepared dataset can then be loaded as follows:"
   ]
  },
  {
   "cell_type": "code",
   "execution_count": 2,
   "metadata": {
    "colab": {
     "base_uri": "https://localhost:8080/"
    },
    "id": "h1G4aEt9I0wj",
    "outputId": "f6d42c1b-3408-4261-95be-45114d3433de"
   },
   "outputs": [
    {
     "ename": "FileNotFoundError",
     "evalue": "[Errno 2] No such file or directory: 'img_align_celeba.npz'",
     "output_type": "error",
     "traceback": [
      "\u001b[0;31m---------------------------------------------------------------------------\u001b[0m",
      "\u001b[0;31mFileNotFoundError\u001b[0m                         Traceback (most recent call last)",
      "Cell \u001b[0;32mIn[2], line 4\u001b[0m\n\u001b[1;32m      1\u001b[0m \u001b[38;5;28;01mfrom\u001b[39;00m \u001b[38;5;21;01mnumpy\u001b[39;00m \u001b[38;5;28;01mimport\u001b[39;00m load\n\u001b[1;32m      3\u001b[0m \u001b[38;5;66;03m# load the face dataset\u001b[39;00m\n\u001b[0;32m----> 4\u001b[0m data \u001b[38;5;241m=\u001b[39m \u001b[43mload\u001b[49m\u001b[43m(\u001b[49m\u001b[38;5;124;43m'\u001b[39;49m\u001b[38;5;124;43mimg_align_celeba.npz\u001b[39;49m\u001b[38;5;124;43m'\u001b[39;49m\u001b[43m)\u001b[49m\n\u001b[1;32m      5\u001b[0m faces \u001b[38;5;241m=\u001b[39m data[\u001b[38;5;124m'\u001b[39m\u001b[38;5;124marr_0\u001b[39m\u001b[38;5;124m'\u001b[39m]\n\u001b[1;32m      6\u001b[0m \u001b[38;5;28mprint\u001b[39m(\u001b[38;5;124m'\u001b[39m\u001b[38;5;124mLoaded: \u001b[39m\u001b[38;5;124m'\u001b[39m, faces\u001b[38;5;241m.\u001b[39mshape)\n",
      "File \u001b[0;32m~/opt/anaconda3/envs/tf2/lib/python3.10/site-packages/numpy/lib/npyio.py:405\u001b[0m, in \u001b[0;36mload\u001b[0;34m(file, mmap_mode, allow_pickle, fix_imports, encoding, max_header_size)\u001b[0m\n\u001b[1;32m    403\u001b[0m     own_fid \u001b[38;5;241m=\u001b[39m \u001b[38;5;28;01mFalse\u001b[39;00m\n\u001b[1;32m    404\u001b[0m \u001b[38;5;28;01melse\u001b[39;00m:\n\u001b[0;32m--> 405\u001b[0m     fid \u001b[38;5;241m=\u001b[39m stack\u001b[38;5;241m.\u001b[39menter_context(\u001b[38;5;28;43mopen\u001b[39;49m\u001b[43m(\u001b[49m\u001b[43mos_fspath\u001b[49m\u001b[43m(\u001b[49m\u001b[43mfile\u001b[49m\u001b[43m)\u001b[49m\u001b[43m,\u001b[49m\u001b[43m \u001b[49m\u001b[38;5;124;43m\"\u001b[39;49m\u001b[38;5;124;43mrb\u001b[39;49m\u001b[38;5;124;43m\"\u001b[39;49m\u001b[43m)\u001b[49m)\n\u001b[1;32m    406\u001b[0m     own_fid \u001b[38;5;241m=\u001b[39m \u001b[38;5;28;01mTrue\u001b[39;00m\n\u001b[1;32m    408\u001b[0m \u001b[38;5;66;03m# Code to distinguish from NumPy binary files and pickles.\u001b[39;00m\n",
      "\u001b[0;31mFileNotFoundError\u001b[0m: [Errno 2] No such file or directory: 'img_align_celeba.npz'"
     ]
    }
   ],
   "source": [
    "from numpy import load\n",
    "\n",
    "# load the face dataset\n",
    "data = load('img_align_celeba.npz')\n",
    "faces = data['arr_0']\n",
    "print('Loaded: ', faces.shape)"
   ]
  },
  {
   "cell_type": "markdown",
   "metadata": {
    "id": "NiIBchg0I0wo"
   },
   "source": [
    "Once the images are loaded, plot them using the imshow() function from the matplotlib library."
   ]
  },
  {
   "cell_type": "code",
   "execution_count": 4,
   "metadata": {
    "id": "QHZ0GIbdAo28"
   },
   "outputs": [],
   "source": [
    "import matplotlib.pyplot as plt\n",
    "import math"
   ]
  },
  {
   "cell_type": "code",
   "execution_count": 39,
   "metadata": {
    "id": "vE03muUEI0wp"
   },
   "outputs": [],
   "source": [
    "def plot_faces(faces, n):\n",
    "  fig = plt.figure()\n",
    "  rows = 3\n",
    "  columns = math.ceil(n/3)\n",
    "  for i in range(1, n+1):\n",
    "    fig.add_subplot(rows, columns, i)\n",
    "    plt.imshow(faces[i-1])\n",
    "    plt.axis('off')\n",
    "    plt.title(str(i))\n",
    "  "
   ]
  },
  {
   "cell_type": "code",
   "execution_count": 5,
   "metadata": {
    "id": "5dS01l6bEnSn"
   },
   "outputs": [],
   "source": [
    "from keras.models import Sequential\n",
    "import keras.layers as kl\n",
    "from keras import optimizers\n",
    "from keras.layers import LeakyReLU\n",
    "import tensorflow as tf"
   ]
  },
  {
   "cell_type": "code",
   "execution_count": null,
   "metadata": {
    "id": "SwHeItz7I0ws"
   },
   "outputs": [],
   "source": [
    "def define_discriminator(in_shape=(80,80,3)):\n",
    "\t\"\"\"Define the standalone discriminator model.\n",
    "\n",
    "\tArgs:\n",
    "\t\tin_shape (tuple of integers): Input shape of the first layer.\n",
    "\n",
    "\tReturns:\n",
    "\t\ta keras model (keras.models.Sequential)\n",
    "\t\"\"\"\n",
    "\tmodel = Sequential()\n",
    "\t\t# extract 128 feature maps of size 80x80\n",
    "\tmodel.add(kl.Conv2D(filters=128, kernel_size = 5, strides=2, padding = \"same\", activation=LeakyReLU(0.2) , input_shape=in_shape))\n",
    "\t\t# downsample the 128 feature maps to 40x40\n",
    "\tmodel.add(kl.Conv2D(filters=128, kernel_size = 5, strides=2, padding = \"same\", activation=LeakyReLU(0.2)))\n",
    "\t\t# downsample the 128 feature maps to 20x20\n",
    "\tmodel.add(kl.Conv2D(filters=128, kernel_size = 5, strides=2, padding = \"same\", activation=LeakyReLU(0.2)))\n",
    "\t\t# downsample the 128 feature maps to 10x10\n",
    "\tmodel.add(kl.Conv2D(filters=128, kernel_size = 5, strides=2, padding = \"same\", activation=LeakyReLU(0.2)))\n",
    "\t\t# downsample the 128 feature maps to 5x5\n",
    "\t\t# classifier with dropout=0.4\n",
    "\tmodel.add(kl.Flatten())\n",
    "\tmodel.add(kl.Dropout(0.4))\n",
    "\tmodel.add(kl.Dense(512, activation = \"ReLU\"))\n",
    "\tmodel.add(kl.Dense(128, activation = \"ReLU\"))\n",
    "\tmodel.add(kl.Dense(1, activation = \"sigmoid\"))\n",
    "\t\t# compile model\n",
    "\topt = optimizers.Adam(learning_rate =0.0002, beta_1=0.5)\n",
    "\tmodel.compile(loss = 'binary_crossentropy' , optimizer = opt ,metrics =['accuracy'])\n",
    "\treturn model"
   ]
  },
  {
   "cell_type": "code",
   "execution_count": null,
   "metadata": {
    "id": "HBUjuOwUI0wv"
   },
   "outputs": [],
   "source": [
    "def define_generator(latent_dim):\n",
    "        \"\"\"Define the standalone generator model.\n",
    "\n",
    "        Args:\n",
    "                latent_dim (int): dimension of the input latent.\n",
    "\n",
    "        Returns:\n",
    "                a keras model (keras.models.Sequential), not compiled.\n",
    "        \"\"\"        \n",
    "        model = Sequential()\n",
    "        # extract 128 feature maps of size 5x5 from the input latent of size latent_dim\n",
    "        model.add(kl.Dense(128*5*5,\"ReLU\",input_dim=latent_dim))\n",
    "        model.add(kl.Reshape((5,5,128)))\n",
    "        model.add(kl.Conv2DTranspose(128, 4, strides = 2, activation=LeakyReLU(alpha=0.2), padding='same'))\n",
    "        # upsample the 128 feature maps to 10x10\n",
    "        model.add(kl.Conv2DTranspose(128, 4, strides = 2, activation=LeakyReLU(alpha=0.2), padding='same'))\n",
    "        # upsample the 128 feature maps to 20x20\n",
    "        model.add(kl.Conv2DTranspose(128, 4, strides = 2, activation=LeakyReLU(alpha=0.2), padding='same'))\n",
    "        # upsample the 128 feature maps to 40x40\n",
    "        model.add(kl.Conv2DTranspose(128, 4, strides = 2, activation=LeakyReLU(alpha=0.2), padding='same'))\n",
    "        # upsample the 128 feature maps to 80x80\n",
    " \n",
    "        model.add(kl.Conv2D(3, 4, strides = 1, activation=\"tanh\", padding='same'))\n",
    "        # output layer 80x80x3\n",
    "        model.build()\n",
    "        return model"
   ]
  },
  {
   "cell_type": "code",
   "execution_count": 6,
   "metadata": {
    "id": "s38MQiW7a4Lh"
   },
   "outputs": [],
   "source": [
    "from keras import Model"
   ]
  },
  {
   "cell_type": "code",
   "execution_count": null,
   "metadata": {
    "id": "dzBslDI7I0wx"
   },
   "outputs": [],
   "source": [
    "def define_gan(g_model, d_model):\n",
    "\t\"\"\"Define the combined generator and discriminator model, for updating the generator.\n",
    "\n",
    "\tArgs:\n",
    "\t\tg_model (keras.models.Sequential): generator model.\n",
    "\t\td_model (keras.models.Sequential): discriminator model.\n",
    "\n",
    "\tReturns:\n",
    "\t\ta keras model (keras.models.Sequential)\n",
    "\t\"\"\"\n",
    "\t# make weights in the discriminator not trainable\n",
    "\td_model.set_trainable = False\n",
    "\t# connect sequentially generator and discriminator models\n",
    "\tmodel = Model(inputs=g_model.input, outputs=d_model(g_model.output))\n",
    "\t# compile model\n",
    "\topt = optimizers.Adam(learning_rate =0.0002, beta_1=0.5)\n",
    "\tmodel.compile(loss = 'binary_crossentropy' , optimizer = opt ,metrics =['accuracy'])\n",
    " \n",
    "\treturn model"
   ]
  },
  {
   "cell_type": "code",
   "execution_count": null,
   "metadata": {
    "colab": {
     "base_uri": "https://localhost:8080/"
    },
    "id": "uwlXINGbbNCf",
    "outputId": "623bae20-ee98-4878-fb44-6782e57d5769"
   },
   "outputs": [
    {
     "name": "stdout",
     "output_type": "stream",
     "text": [
      "Model: \"model\"\n",
      "_________________________________________________________________\n",
      " Layer (type)                Output Shape              Param #   \n",
      "=================================================================\n",
      " dense_4_input (InputLayer)  [(None, 100)]             0         \n",
      "                                                                 \n",
      " dense_4 (Dense)             (None, 3200)              323200    \n",
      "                                                                 \n",
      " reshape_1 (Reshape)         (None, 5, 5, 128)         0         \n",
      "                                                                 \n",
      " conv2d_transpose_4 (Conv2DT  (None, 10, 10, 128)      262272    \n",
      " ranspose)                                                       \n",
      "                                                                 \n",
      " conv2d_transpose_5 (Conv2DT  (None, 20, 20, 128)      262272    \n",
      " ranspose)                                                       \n",
      "                                                                 \n",
      " conv2d_transpose_6 (Conv2DT  (None, 40, 40, 128)      262272    \n",
      " ranspose)                                                       \n",
      "                                                                 \n",
      " conv2d_transpose_7 (Conv2DT  (None, 80, 80, 128)      262272    \n",
      " ranspose)                                                       \n",
      "                                                                 \n",
      " conv2d_5 (Conv2D)           (None, 80, 80, 3)         6147      \n",
      "                                                                 \n",
      " sequential_3 (Sequential)   (None, 1)                 2943617   \n",
      "                                                                 \n",
      "=================================================================\n",
      "Total params: 4,322,052\n",
      "Trainable params: 4,322,052\n",
      "Non-trainable params: 0\n",
      "_________________________________________________________________\n"
     ]
    }
   ],
   "source": [
    "g = define_generator(100)\n",
    "d = define_discriminator()\n",
    "define_gan(g,d).summary()"
   ]
  },
  {
   "cell_type": "code",
   "execution_count": 7,
   "metadata": {
    "id": "V06SwJyydq5d"
   },
   "outputs": [],
   "source": [
    "import numpy as np"
   ]
  },
  {
   "cell_type": "code",
   "execution_count": null,
   "metadata": {
    "id": "I-sGj3YDI0wy"
   },
   "outputs": [],
   "source": [
    "def load_real_samples():\n",
    "\t\"\"\"Load and prepare training images.\n",
    "\n",
    "\tReturns:\n",
    "\t\ta numpy.ndarray containing normalized faces.\n",
    "\t\"\"\"\n",
    "\t# load the face dataset\n",
    "\tdata = load('img_align_celeba.npz')\n",
    "\tfaces = data['arr_0']\n",
    "\t# convert from unsigned ints to floats\n",
    "\tfaces=faces.astype(np.float32)\n",
    "\t# scale from [0,255] to [-1,1]\n",
    "\tfaces = (faces-122.5)/122.5\n",
    "\treturn faces"
   ]
  },
  {
   "cell_type": "code",
   "execution_count": null,
   "metadata": {
    "id": "CGYxEFjyI0w0"
   },
   "outputs": [],
   "source": [
    "def generate_real_samples(dataset, n_samples):\n",
    "\t\"\"\"Select real samples.\n",
    "\n",
    "\tArgs:\n",
    "\t\tdataset (numpy.ndarray): normalized faces.\n",
    "\t\tn_samples (int): number of samples randomly selected from the dataset (i.e. batch size).\n",
    "\n",
    "\tReturns:\n",
    "\t\ta tuple of numpy.ndarray with (1) the selected samples and (2) the 'real' class labels (i.e. ones(n_samples, 1)).\n",
    "\t\"\"\"\n",
    "\tz = np.zeros((n_samples,80,80,3))\n",
    "\tfor i in range(n_samples):\n",
    "\t\tz[i]+=dataset[np.random.randint(0,50000)]\n",
    "\treturn (z,np.ones(n_samples).reshape((-1,1)))\n"
   ]
  },
  {
   "cell_type": "code",
   "execution_count": 40,
   "metadata": {
    "id": "0sCVSOMiI0w0"
   },
   "outputs": [],
   "source": [
    "def generate_latent_points(latent_dim, n_samples):\n",
    "\t\"\"\"Generate points in latent space as input for the generator\n",
    "\n",
    "\tArgs:\n",
    "\t\tlatent_dim (int): Latent dimension.\n",
    "\t\tn_samples (int): number of generated samples.\n",
    "\n",
    "\tReturns:\n",
    "\t\ta numpy.ndarray of shape (n_samples, latent_dim).\n",
    "\t\"\"\"\n",
    "\tprod = latent_dim\n",
    "\n",
    " \n",
    "\ttab = np.random.normal(0,1,n_samples*prod)\n",
    "\ttab = tab.reshape((n_samples,latent_dim))\n",
    "\treturn tab"
   ]
  },
  {
   "cell_type": "code",
   "execution_count": null,
   "metadata": {
    "id": "3Pf-3qvTI0w1"
   },
   "outputs": [],
   "source": [
    "def generate_fake_samples(g_model, latent_dim, n_samples):\n",
    "    \"\"\"Use the generator to generate n fake examples, with class labels\n",
    "\n",
    "    Args:\n",
    "        g_model (keras.models.Sequential): generator model.\n",
    "        latent_dim (int): Latent dimension.\n",
    "        n_samples (int): number of generated samples.\n",
    "\n",
    "    Returns:\n",
    "        a tuple of numpy.ndarray with (1) the generated samples and (2) the 'fake' class labels (i.e. zeros(n_samples, 1)).\n",
    "    \"\"\"\n",
    "\n",
    "    data = generate_latent_points(latent_dim, n_samples)\n",
    "    z = g_model.predict(data)\n",
    "    return (z,np.zeros(n_samples).reshape((-1,1)))\n",
    "\n"
   ]
  },
  {
   "cell_type": "code",
   "execution_count": null,
   "metadata": {
    "id": "icnpJTmJI0w2"
   },
   "outputs": [],
   "source": [
    "def summarize_performance(epoch, g_model, d_model, dataset, latent_dim, n_samples=100):\n",
    "    \"\"\"Evaluate the discriminator, plot generated images, save generator model\n",
    "\n",
    "    Args:\n",
    "\n",
    "        epoch (int): the current epoch during evaluation.\n",
    "        g_model (keras.models.Sequential): generator model.\n",
    "        d_model (keras.models.Sequential): discriminator model.\n",
    "        dataset (numpy.ndarray): all normalized faces.\n",
    "        latent_dim (int): Latent dimension.\n",
    "        n_samples (int): number of generated samples.\n",
    "    \"\"\"\n",
    "    # evaluate discriminator on real examples\n",
    "    rs = generate_real_samples(dataset, n_samples)\n",
    "    eval_r = d_model.evaluate(rs[0],rs[1])\n",
    "    # evaluate discriminator on fake examples\n",
    "\n",
    "    fs = generate_fake_samples(g_model, latent_dim, n_samples)\n",
    "    eval_f = d_model.evaluate(fs[0],fs[1])\n",
    "    # print discriminator performance\n",
    "    print(\"real : \", eval_r, \" /   fake : \", eval_f)\n",
    "    # save plot\n",
    "    plot_faces(fs[0],6)\n",
    "    plt.savefig('plot' + str(epoch))\n",
    "    # save the generator model tile file\n",
    "    g_model.save(\"gene\" + str(epoch))\n",
    "    \n",
    "def train(g_model, d_model, gan_model, dataset, latent_dim, n_epochs=100, n_batch=128):\n",
    "    \"\"\"Train the generator and discriminator\n",
    "\n",
    "    Args:\n",
    "        g_model (keras.models.Sequential): generator model.\n",
    "        d_model (keras.models.Sequential): discriminator model.\n",
    "        gan_model (keras.models.Sequential): combined generator and discriminator model.\n",
    "        dataset (numpy.ndarray): all normalized faces.\n",
    "        latent_dim (int): Latent dimension.\n",
    "        n_epoch (int): number of epochs during training.\n",
    "        n_batch (int); number of samples by batch\n",
    "    \"\"\"\n",
    "    bat_per_epo = int(dataset.shape[0] / n_batch)\n",
    "    half_batch = int(n_batch / 2)\n",
    "    # manually enumerate epochs\n",
    "    for i in range(n_epochs):\n",
    "        # enumerate batches over the training set\n",
    "        for j in range(bat_per_epo):\n",
    "            # update discriminator model weights with 'real' samples (use the train_on_batch function with half_batch samples)\n",
    "            rs = generate_real_samples(dataset, half_batch)\n",
    "            d_model.train_on_batch(rs[0],rs[1])\n",
    "            # update discriminator model weights with 'fake' samples (use the train_on_batch function with half_batch samples)\n",
    "            fs = generate_fake_samples(g_model, latent_dim, half_batch)\n",
    "            d_model.train_on_batch(fs[0],fs[1])\n",
    "            # update the generator model weights (use the train_on_batch function with n_batch samples)\n",
    "            lat_p = generate_latent_points(latent_dim, n_batch)\n",
    "            gan_model.train_on_batch(lat_p, np.ones(n_batch).reshape(-1,1))\n",
    "            # summarize loss on this batch\n",
    "              #gan_model.compute_loss()\n",
    "        # evaluate the model performance, sometimes\n",
    "        summarize_performance(i, g_model, d_model, dataset, latent_dim, 100) "
   ]
  },
  {
   "cell_type": "markdown",
   "metadata": {
    "id": "pviNsMhSI0w3"
   },
   "source": [
    "We can then define the size of the latent space, define all three models, and train them on the loaded face dataset."
   ]
  },
  {
   "cell_type": "code",
   "execution_count": null,
   "metadata": {
    "colab": {
     "background_save": true,
     "base_uri": "https://localhost:8080/"
    },
    "id": "EMjehqjAI0w4",
    "outputId": "10b0bd4a-9cf4-4b92-c3dd-d0785e4ffad0"
   },
   "outputs": [
    {
     "name": "stdout",
     "output_type": "stream",
     "text": [
      "2/2 [==============================] - 3s 1s/step\n",
      "2/2 [==============================] - 4s 2s/step\n",
      "2/2 [==============================] - 3s 1s/step\n",
      "2/2 [==============================] - 2s 1s/step\n",
      "2/2 [==============================] - 2s 1s/step\n",
      "2/2 [==============================] - 3s 1s/step\n",
      "2/2 [==============================] - 3s 1s/step\n",
      "2/2 [==============================] - 3s 1s/step\n",
      "2/2 [==============================] - 3s 1s/step\n",
      "2/2 [==============================] - 3s 1s/step\n",
      "2/2 [==============================] - 3s 1s/step\n",
      "2/2 [==============================] - 4s 2s/step\n",
      "2/2 [==============================] - 4s 2s/step\n",
      "2/2 [==============================] - 4s 2s/step\n",
      "2/2 [==============================] - 4s 1s/step\n",
      "2/2 [==============================] - 3s 1s/step\n",
      "2/2 [==============================] - 4s 2s/step\n",
      "2/2 [==============================] - 3s 1s/step\n",
      "2/2 [==============================] - 3s 1s/step\n",
      "2/2 [==============================] - 3s 1s/step\n",
      "2/2 [==============================] - 2s 1s/step\n",
      "2/2 [==============================] - 3s 1s/step\n",
      "2/2 [==============================] - 4s 2s/step\n",
      "2/2 [==============================] - 3s 2s/step\n",
      "2/2 [==============================] - 3s 2s/step\n",
      "2/2 [==============================] - 3s 2s/step\n",
      "2/2 [==============================] - 4s 2s/step\n",
      "2/2 [==============================] - 3s 1s/step\n",
      "2/2 [==============================] - 3s 1s/step\n",
      "2/2 [==============================] - 4s 1s/step\n",
      "2/2 [==============================] - 4s 1s/step\n",
      "2/2 [==============================] - 4s 2s/step\n",
      "2/2 [==============================] - 4s 2s/step\n",
      "2/2 [==============================] - 4s 2s/step\n",
      "2/2 [==============================] - 4s 2s/step\n",
      "2/2 [==============================] - 3s 2s/step\n",
      "2/2 [==============================] - 4s 2s/step\n",
      "2/2 [==============================] - 4s 2s/step\n",
      "2/2 [==============================] - 3s 1s/step\n",
      "2/2 [==============================] - 3s 1s/step\n",
      "2/2 [==============================] - 3s 1s/step\n",
      "2/2 [==============================] - 2s 1s/step\n",
      "2/2 [==============================] - 3s 1s/step\n",
      "2/2 [==============================] - 4s 2s/step\n",
      "2/2 [==============================] - 3s 2s/step\n",
      "2/2 [==============================] - 3s 2s/step\n",
      "2/2 [==============================] - 3s 1s/step\n",
      "2/2 [==============================] - 3s 1s/step\n",
      "2/2 [==============================] - 3s 1s/step\n",
      "2/2 [==============================] - 3s 1s/step\n",
      "2/2 [==============================] - 2s 1s/step\n",
      "2/2 [==============================] - 4s 2s/step\n",
      "2/2 [==============================] - 3s 1s/step\n",
      "2/2 [==============================] - 3s 1s/step\n",
      "2/2 [==============================] - 3s 1s/step\n",
      "2/2 [==============================] - 3s 1s/step\n",
      "2/2 [==============================] - 3s 1s/step\n",
      "2/2 [==============================] - 4s 2s/step\n",
      "2/2 [==============================] - 3s 1s/step\n",
      "2/2 [==============================] - 3s 1s/step\n",
      "2/2 [==============================] - 3s 1s/step\n",
      "2/2 [==============================] - 3s 1s/step\n",
      "2/2 [==============================] - 3s 1s/step\n",
      "2/2 [==============================] - 4s 1s/step\n",
      "2/2 [==============================] - 4s 2s/step\n",
      "2/2 [==============================] - 3s 1s/step\n",
      "2/2 [==============================] - 3s 2s/step\n",
      "2/2 [==============================] - 3s 2s/step\n",
      "2/2 [==============================] - 5s 3s/step\n",
      "2/2 [==============================] - 4s 2s/step\n",
      "2/2 [==============================] - 3s 1s/step\n",
      "2/2 [==============================] - 2s 1s/step\n",
      "2/2 [==============================] - 3s 1s/step\n",
      "2/2 [==============================] - 3s 1s/step\n",
      "2/2 [==============================] - 3s 1s/step\n",
      "2/2 [==============================] - 3s 1s/step\n",
      "2/2 [==============================] - 3s 1s/step\n",
      "2/2 [==============================] - 3s 1s/step\n",
      "2/2 [==============================] - 2s 1s/step\n",
      "2/2 [==============================] - 3s 1s/step\n",
      "2/2 [==============================] - 3s 1s/step\n",
      "2/2 [==============================] - 3s 1s/step\n",
      "2/2 [==============================] - 3s 1s/step\n",
      "2/2 [==============================] - 3s 1s/step\n",
      "2/2 [==============================] - 2s 1s/step\n",
      "2/2 [==============================] - 3s 1s/step\n",
      "2/2 [==============================] - 3s 1s/step\n",
      "2/2 [==============================] - 3s 1s/step\n",
      "2/2 [==============================] - 3s 1s/step\n",
      "2/2 [==============================] - 2s 1s/step\n",
      "2/2 [==============================] - 3s 1s/step\n",
      "2/2 [==============================] - 2s 1s/step\n",
      "2/2 [==============================] - 2s 1s/step\n",
      "2/2 [==============================] - 2s 1s/step\n",
      "2/2 [==============================] - 3s 1s/step\n",
      "2/2 [==============================] - 2s 1s/step\n",
      "2/2 [==============================] - 2s 1s/step\n",
      "2/2 [==============================] - 3s 1s/step\n",
      "2/2 [==============================] - 3s 1s/step\n",
      "2/2 [==============================] - 3s 2s/step\n",
      "2/2 [==============================] - 3s 2s/step\n",
      "2/2 [==============================] - 3s 1s/step\n",
      "2/2 [==============================] - 2s 1s/step\n",
      "2/2 [==============================] - 2s 1s/step\n",
      "2/2 [==============================] - 3s 1s/step\n",
      "2/2 [==============================] - 2s 1s/step\n",
      "2/2 [==============================] - 3s 1s/step\n",
      "2/2 [==============================] - 3s 1s/step\n",
      "2/2 [==============================] - 3s 1s/step\n",
      "2/2 [==============================] - 3s 1s/step\n",
      "2/2 [==============================] - 2s 1s/step\n",
      "2/2 [==============================] - 3s 1s/step\n",
      "2/2 [==============================] - 2s 1s/step\n",
      "2/2 [==============================] - 2s 1s/step\n",
      "2/2 [==============================] - 3s 1s/step\n",
      "2/2 [==============================] - 3s 1s/step\n",
      "2/2 [==============================] - 3s 1s/step\n",
      "2/2 [==============================] - 3s 2s/step\n",
      "2/2 [==============================] - 3s 1s/step\n",
      "2/2 [==============================] - 3s 2s/step\n",
      "2/2 [==============================] - 3s 1s/step\n",
      "2/2 [==============================] - 2s 1s/step\n",
      "2/2 [==============================] - 3s 1s/step\n",
      "2/2 [==============================] - 3s 1s/step\n",
      "2/2 [==============================] - 3s 1s/step\n",
      "2/2 [==============================] - 3s 1s/step\n",
      "2/2 [==============================] - 2s 1s/step\n",
      "2/2 [==============================] - 2s 1s/step\n",
      "2/2 [==============================] - 3s 1s/step\n",
      "2/2 [==============================] - 2s 1s/step\n",
      "2/2 [==============================] - 2s 1s/step\n",
      "2/2 [==============================] - 3s 1s/step\n",
      "2/2 [==============================] - 3s 1s/step\n",
      "2/2 [==============================] - 2s 1s/step\n",
      "2/2 [==============================] - 3s 1s/step\n",
      "2/2 [==============================] - 3s 1s/step\n",
      "2/2 [==============================] - 3s 1s/step\n",
      "2/2 [==============================] - 3s 1s/step\n",
      "2/2 [==============================] - 3s 1s/step\n",
      "2/2 [==============================] - 3s 1s/step\n",
      "2/2 [==============================] - 2s 1s/step\n",
      "2/2 [==============================] - 3s 1s/step\n",
      "2/2 [==============================] - 3s 1s/step\n",
      "2/2 [==============================] - 3s 2s/step\n"
     ]
    }
   ],
   "source": [
    "# size of the latent space\n",
    "latent_dim = 100\n",
    "# create the discriminator\n",
    "d_model = define_discriminator()\n",
    "# create the generator\n",
    "g_model = define_generator(latent_dim)\n",
    "# create the gan\n",
    "gan_model = define_gan(g_model, d_model)\n",
    "# load image data\n",
    "dataset = load_real_samples()\n",
    "# train model\n",
    "train(g_model, d_model, gan_model, dataset, latent_dim)"
   ]
  },
  {
   "cell_type": "code",
   "execution_count": 32,
   "metadata": {
    "colab": {
     "base_uri": "https://localhost:8080/"
    },
    "id": "KJu4yg-ZWRFa",
    "outputId": "77d27767-72cf-4208-dc48-c7c7da2318bf"
   },
   "outputs": [
    {
     "name": "stdout",
     "output_type": "stream",
     "text": [
      "--2023-02-22 08:06:18--  https://nextcloud.univ-lille.fr/index.php/s/stkf2XASKxsHaLD/download/generator_model_030.h5\n",
      "Resolving nextcloud.univ-lille.fr (nextcloud.univ-lille.fr)... 194.254.129.23, 194.254.129.22\n",
      "Connecting to nextcloud.univ-lille.fr (nextcloud.univ-lille.fr)|194.254.129.23|:443... connected.\n",
      "HTTP request sent, awaiting response... 200 OK\n",
      "Length: 5564160 (5.3M) [application/octet-stream]\n",
      "Saving to: ‘generator_model_030.h5.2’\n",
      "\n",
      "generator_model_030 100%[===================>]   5.31M  4.61MB/s    in 1.2s    \n",
      "\n",
      "2023-02-22 08:06:20 (4.61 MB/s) - ‘generator_model_030.h5.2’ saved [5564160/5564160]\n",
      "\n"
     ]
    }
   ],
   "source": [
    "!wget 'https://nextcloud.univ-lille.fr/index.php/s/stkf2XASKxsHaLD/download/generator_model_030.h5'"
   ]
  },
  {
   "cell_type": "code",
   "execution_count": 2,
   "metadata": {
    "colab": {
     "base_uri": "https://localhost:8080/"
    },
    "id": "FUBG90Ul3crZ",
    "outputId": "7f47598c-e210-463d-a4d7-26e278669481"
   },
   "outputs": [
    {
     "name": "stdout",
     "output_type": "stream",
     "text": [
      "Downloading data from https://storage.googleapis.com/tensorflow/keras-applications/inception_v3/inception_v3_weights_tf_dim_ordering_tf_kernels.h5\n",
      "96112376/96112376 [==============================] - 1s 0us/step\n"
     ]
    }
   ],
   "source": [
    "from keras.applications.inception_v3 import InceptionV3\n",
    "from keras.applications.inception_v3 import preprocess_input\n",
    "\n",
    "model = InceptionV3()"
   ]
  },
  {
   "cell_type": "code",
   "execution_count": 3,
   "metadata": {
    "colab": {
     "base_uri": "https://localhost:8080/"
    },
    "id": "yRcsVBKt3sD0",
    "outputId": "e63b3b21-3460-4b34-cb7c-13a2a9be9797"
   },
   "outputs": [
    {
     "name": "stdout",
     "output_type": "stream",
     "text": [
      "Downloading data from https://storage.googleapis.com/tensorflow/keras-applications/inception_v3/inception_v3_weights_tf_dim_ordering_tf_kernels_notop.h5\n",
      "87910968/87910968 [==============================] - 2s 0us/step\n"
     ]
    }
   ],
   "source": [
    "from keras.applications.inception_v3 import InceptionV3\n",
    "from keras.applications.inception_v3 import preprocess_input\n",
    "\n",
    "# prepare the inception v3 model\n",
    "model = InceptionV3(include_top=False, pooling='avg', input_shape=(299,299,3))"
   ]
  },
  {
   "cell_type": "code",
   "execution_count": 13,
   "metadata": {
    "id": "lR1SrA1m34oK"
   },
   "outputs": [],
   "source": [
    "def scale_images(images, new_shape):\n",
    "        \"\"\"Scale an array of images to a new size\n",
    "\n",
    "        Args:\n",
    "                images (numpy.ndarray): array or list of images\n",
    "                new_shape (tuple): new size for each image\n",
    "\n",
    "        Returns:\n",
    "                a numpy.array containing all resized images\n",
    "        \"\"\"\n",
    "        images_list = list()\n",
    "        for image in images:\n",
    "        # resize with nearest neighbor interpolation\n",
    "                new_image = np.resize(image, new_shape)\n",
    "        # store\n",
    "                images_list.append(new_image)\n",
    "        return np.array(images_list)\n"
   ]
  },
  {
   "cell_type": "code",
   "execution_count": 26,
   "metadata": {
    "id": "8XTLBk344XAi"
   },
   "outputs": [],
   "source": [
    "import scipy.linalg as sl\n",
    "def calculate_fid(model, images11, images22):\n",
    "\n",
    "        # calculate features\n",
    "        images1 = model.predict(images11)\n",
    "        images2 = model.predict(images22)\n",
    "        # calculate mean and covariance statistics\n",
    "        mu1, sigma1 = images1.mean(axis=1), np.cov(images1, rowvar=True)\n",
    "        mu2, sigma2 = images2.mean(axis=1), np.cov(images2, rowvar=True)\n",
    " # calculate sum squared difference between means\n",
    "        smdiff = np.sum((mu1 - mu2)**2.0)\n",
    "\n",
    "        # calculate sum squared difference between means\n",
    "        ssdiff = np.sum((sigma1 - sigma2)**2.0)\n",
    "        # calculate 'sqrt' of dot product between covariance matrices using scipy.linalg.sqrtm\n",
    "        covmean = sl.sqrtm(sigma1.dot(sigma2))\n",
    " \n",
    "        # if 'sqrt' is imaginary, take the real part\n",
    "        if np.iscomplexobj(covmean):\n",
    "                covmean = covmean.real\n",
    "        # calculate fid score\n",
    "        fid = ssdiff + (sigma1 + sigma2 - 2.0 * covmean).trace()\n",
    "\n",
    "        return fid"
   ]
  },
  {
   "cell_type": "code",
   "execution_count": 11,
   "metadata": {
    "id": "48eu67clUCuR"
   },
   "outputs": [],
   "source": [
    "# define two fake collections of images\n",
    "images1 = np.random.randint(0, 255, 30720)\n",
    "images1 = images1.reshape((10,32,32,3))\n",
    "images2 = np.random.randint(0, 255, 30720)\n",
    "images2 = images2.reshape((10,32,32,3))"
   ]
  },
  {
   "cell_type": "code",
   "execution_count": 14,
   "metadata": {
    "id": "_dJJ-0lAUKqD"
   },
   "outputs": [],
   "source": [
    "# convert integer to floating point values\n",
    "images1 = images1.astype('float32')\n",
    "images2 = images2.astype('float32')\n",
    "# resize images\n",
    "images1 = scale_images(images1, (299,299,3))\n",
    "images2 = scale_images(images2, (299,299,3))"
   ]
  },
  {
   "cell_type": "markdown",
   "metadata": {
    "id": "p7CyevGtUu-l"
   },
   "source": [
    "Then the pixel values can be scaled to meet the expectations of the Inception v3 model."
   ]
  },
  {
   "cell_type": "code",
   "execution_count": 16,
   "metadata": {
    "id": "0uQuUpW_UxLY"
   },
   "outputs": [],
   "source": [
    "from keras.applications.inception_v3 import preprocess_input\n",
    "\n",
    "# pre-process images\n",
    "images1 = preprocess_input(images1)\n",
    "images2 = preprocess_input(images2)"
   ]
  },
  {
   "cell_type": "markdown",
   "metadata": {
    "id": "gG3Zl_i_U0_W"
   },
   "source": [
    "Then calculate the FID scores, first between a collection of images and itself, then between the two collections of images."
   ]
  },
  {
   "cell_type": "code",
   "execution_count": 30,
   "metadata": {
    "colab": {
     "base_uri": "https://localhost:8080/"
    },
    "id": "HO393ibNU0li",
    "outputId": "20cb187c-923e-4cf0-c9fc-b5f3e5700a4a"
   },
   "outputs": [
    {
     "name": "stdout",
     "output_type": "stream",
     "text": [
      "1/1 [==============================] - 3s 3s/step\n",
      "1/1 [==============================] - 2s 2s/step\n",
      "2.886579864025407e-15\n",
      "1/1 [==============================] - 2s 2s/step\n",
      "1/1 [==============================] - 2s 2s/step\n",
      "0.1540652407542002\n"
     ]
    }
   ],
   "source": [
    "# fid between images1 and images1 (should be equal to 0)\n",
    "print(calculate_fid(model, images1, images1))\n",
    "# fid between images1 and images2\n",
    "print(calculate_fid(model, images1, images2))"
   ]
  },
  {
   "cell_type": "markdown",
   "metadata": {
    "id": "G--WCmMoMljY"
   },
   "source": [
    "Application for face generation: calculate the fid score from the real and generated face images."
   ]
  },
  {
   "cell_type": "markdown",
   "metadata": {
    "id": "9HTjM8C1I0w8"
   },
   "source": [
    "## How to Explore the Latent Space for Generated Faces\n",
    "In this section, we will use our trained GAN model as the basis for exploring the latent space.\n",
    "\n",
    "The generator model can be downloaded as follows:"
   ]
  },
  {
   "cell_type": "code",
   "execution_count": 43,
   "metadata": {
    "colab": {
     "base_uri": "https://localhost:8080/"
    },
    "id": "IaYZpSA_Ceyr",
    "outputId": "686b0e60-ecc1-4024-d665-69f42b2b0e79"
   },
   "outputs": [
    {
     "name": "stdout",
     "output_type": "stream",
     "text": [
      "--2023-02-22 08:16:45--  https://nextcloud.univ-lille.fr/index.php/s/stkf2XASKxsHaLD/download/generator_model_030.h5\n",
      "Resolving nextcloud.univ-lille.fr (nextcloud.univ-lille.fr)... 194.254.129.22, 194.254.129.23\n",
      "Connecting to nextcloud.univ-lille.fr (nextcloud.univ-lille.fr)|194.254.129.22|:443... connected.\n",
      "HTTP request sent, awaiting response... 200 OK\n",
      "Length: 5564160 (5.3M) [application/octet-stream]\n",
      "Saving to: ‘generator_model_030.h5.3’\n",
      "\n",
      "generator_model_030 100%[===================>]   5.31M  4.59MB/s    in 1.2s    \n",
      "\n",
      "2023-02-22 08:16:47 (4.59 MB/s) - ‘generator_model_030.h5.3’ saved [5564160/5564160]\n",
      "\n"
     ]
    }
   ],
   "source": [
    "!wget 'https://nextcloud.univ-lille.fr/index.php/s/stkf2XASKxsHaLD/download/generator_model_030.h5'"
   ]
  },
  {
   "cell_type": "markdown",
   "metadata": {
    "id": "sdMPqk01I0w8"
   },
   "source": [
    "### How to Load Model and Generate Faces\n",
    "The first step is to load the saved model and confirm that it can generate plausible faces.\n",
    "\n",
    "The model can be loaded using the load_model() function in the Keras API. We can then generate a number of random points in the latent space and use them as input to the loaded model to generate new faces. The faces can then be plotted.\n"
   ]
  },
  {
   "cell_type": "code",
   "execution_count": 46,
   "metadata": {
    "colab": {
     "base_uri": "https://localhost:8080/",
     "height": 1000
    },
    "id": "zW2Ci6SdI0w9",
    "outputId": "a88aa23b-d121-4386-905e-27874c0f3300"
   },
   "outputs": [
    {
     "name": "stderr",
     "output_type": "stream",
     "text": [
      "WARNING:tensorflow:No training configuration found in the save file, so the model was *not* compiled. Compile it manually.\n"
     ]
    },
    {
     "name": "stdout",
     "output_type": "stream",
     "text": [
      "Model: \"sequential_1\"\n",
      "_________________________________________________________________\n",
      " Layer (type)                Output Shape              Param #   \n",
      "=================================================================\n",
      " dense_1 (Dense)             (None, 3200)              323200    \n",
      "                                                                 \n",
      " leaky_re_lu_5 (LeakyReLU)   (None, 3200)              0         \n",
      "                                                                 \n",
      " reshape (Reshape)           (None, 5, 5, 128)         0         \n",
      "                                                                 \n",
      " conv2d_transpose (Conv2DTra  (None, 10, 10, 128)      262272    \n",
      " nspose)                                                         \n",
      "                                                                 \n",
      " leaky_re_lu_6 (LeakyReLU)   (None, 10, 10, 128)       0         \n",
      "                                                                 \n",
      " conv2d_transpose_1 (Conv2DT  (None, 20, 20, 128)      262272    \n",
      " ranspose)                                                       \n",
      "                                                                 \n",
      " leaky_re_lu_7 (LeakyReLU)   (None, 20, 20, 128)       0         \n",
      "                                                                 \n",
      " conv2d_transpose_2 (Conv2DT  (None, 40, 40, 128)      262272    \n",
      " ranspose)                                                       \n",
      "                                                                 \n",
      " leaky_re_lu_8 (LeakyReLU)   (None, 40, 40, 128)       0         \n",
      "                                                                 \n",
      " conv2d_transpose_3 (Conv2DT  (None, 80, 80, 128)      262272    \n",
      " ranspose)                                                       \n",
      "                                                                 \n",
      " leaky_re_lu_9 (LeakyReLU)   (None, 80, 80, 128)       0         \n",
      "                                                                 \n",
      " conv2d_5 (Conv2D)           (None, 80, 80, 3)         9603      \n",
      "                                                                 \n",
      "=================================================================\n",
      "Total params: 1,381,891\n",
      "Trainable params: 1,381,891\n",
      "Non-trainable params: 0\n",
      "_________________________________________________________________\n",
      "1/1 [==============================] - 1s 1s/step\n"
     ]
    },
    {
     "name": "stderr",
     "output_type": "stream",
     "text": [
      "WARNING:matplotlib.image:Clipping input data to the valid range for imshow with RGB data ([0..1] for floats or [0..255] for integers).\n",
      "WARNING:matplotlib.image:Clipping input data to the valid range for imshow with RGB data ([0..1] for floats or [0..255] for integers).\n",
      "WARNING:matplotlib.image:Clipping input data to the valid range for imshow with RGB data ([0..1] for floats or [0..255] for integers).\n",
      "WARNING:matplotlib.image:Clipping input data to the valid range for imshow with RGB data ([0..1] for floats or [0..255] for integers).\n",
      "WARNING:matplotlib.image:Clipping input data to the valid range for imshow with RGB data ([0..1] for floats or [0..255] for integers).\n",
      "WARNING:matplotlib.image:Clipping input data to the valid range for imshow with RGB data ([0..1] for floats or [0..255] for integers).\n",
      "WARNING:matplotlib.image:Clipping input data to the valid range for imshow with RGB data ([0..1] for floats or [0..255] for integers).\n",
      "WARNING:matplotlib.image:Clipping input data to the valid range for imshow with RGB data ([0..1] for floats or [0..255] for integers).\n",
      "WARNING:matplotlib.image:Clipping input data to the valid range for imshow with RGB data ([0..1] for floats or [0..255] for integers).\n",
      "WARNING:matplotlib.image:Clipping input data to the valid range for imshow with RGB data ([0..1] for floats or [0..255] for integers).\n",
      "WARNING:matplotlib.image:Clipping input data to the valid range for imshow with RGB data ([0..1] for floats or [0..255] for integers).\n",
      "WARNING:matplotlib.image:Clipping input data to the valid range for imshow with RGB data ([0..1] for floats or [0..255] for integers).\n",
      "WARNING:matplotlib.image:Clipping input data to the valid range for imshow with RGB data ([0..1] for floats or [0..255] for integers).\n",
      "WARNING:matplotlib.image:Clipping input data to the valid range for imshow with RGB data ([0..1] for floats or [0..255] for integers).\n",
      "WARNING:matplotlib.image:Clipping input data to the valid range for imshow with RGB data ([0..1] for floats or [0..255] for integers).\n"
     ]
    },
    {
     "data": {
      "image/png": "[encoded data removed]",
      "text/plain": [
       "<Figure size 432x288 with 15 Axes>"
      ]
     },
     "metadata": {
      "needs_background": "light"
     },
     "output_type": "display_data"
    }
   ],
   "source": [
    "# load model\n",
    "model_g = tf.keras.models.load_model(\"generator_model_030.h5.1\")\n",
    "model_g.compile()\n",
    "model_g.summary()\n",
    "# generate points in latent space\n",
    "lp = generate_latent_points(100, 15)\n",
    "# generate images\n",
    "ims = model_g.predict(lp)\n",
    "# plot the result\n",
    "plot_faces(ims,15)"
   ]
  }
 ],
 "metadata": {
  "colab": {
   "provenance": [],
   "toc_visible": true
  },
  "gpuClass": "standard",
  "kernelspec": {
   "display_name": "enviro_tensor",
   "language": "python",
   "name": "enviro_tensor"
  },
  "language_info": {
   "codemirror_mode": {
    "name": "ipython",
    "version": 3
   },
   "file_extension": ".py",
   "mimetype": "text/x-python",
   "name": "python",
   "nbconvert_exporter": "python",
   "pygments_lexer": "ipython3",
   "version": "3.10.9"
  },
  "vscode": {
   "interpreter": {
    "hash": "f150fe45892627fce34495db0998cc897a1aaaf322845b3a205e0647fa681bfb"
   }
  }
 },
 "nbformat": 4,
 "nbformat_minor": 1
}
